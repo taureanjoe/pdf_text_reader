{
 "cells": [
  {
   "cell_type": "code",
   "execution_count": 2,
   "id": "66347c5d",
   "metadata": {},
   "outputs": [],
   "source": [
    "# Import libraries \n",
    "\n",
    "from PIL import Image \n",
    "import pytesseract \n",
    "import sys \n",
    "from pdf2image import convert_from_path \n",
    "import os \n",
    "import re\n",
    "from flair.data import Sentence\n",
    "from flair.models import SequenceTagger\n"
   ]
  },
  {
   "cell_type": "markdown",
   "id": "7c6e84c7",
   "metadata": {},
   "source": [
    "### Part A: Reading the pdf file"
   ]
  },
  {
   "cell_type": "code",
   "execution_count": 3,
   "id": "316bc62b",
   "metadata": {},
   "outputs": [],
   "source": [
    "PDF_file = \"Problem Statement 2.pdf\"\n",
    "\n",
    "# Store all the pages of the PDF in a variable \n",
    "\n",
    "pages = convert_from_path(PDF_file, poppler_path = r\"C:\\Program Files\\poppler-0.68.0\\bin\")\n",
    "\n",
    "# Counter to store images of each page of PDF to image \n",
    "image_counter = 1\n",
    "\n",
    "#iterate through all the pages stored above\n",
    "for page in pages:\n",
    "    filename = \"page_\" + str(image_counter) + \".jpg\"\n",
    "    page.save(filename,'JPEG')\n",
    "    image_counter += 1\n",
    "    \n",
    "filelimit = image_counter - 1"
   ]
  },
  {
   "cell_type": "markdown",
   "id": "0d2803ad",
   "metadata": {},
   "source": [
    "### Part B: Recognizing text from the images using OCR"
   ]
  },
  {
   "cell_type": "code",
   "execution_count": 4,
   "id": "90e00b84",
   "metadata": {},
   "outputs": [],
   "source": [
    "#creating a text file to write the output\n",
    "outfile = \"converted_pdf.txt\"\n",
    "\n",
    "f = open(outfile,'a')\n",
    "pytesseract.pytesseract.tesseract_cmd = r\"C:\\Program Files\\tesseract_ocr\\tesseract.exe\"\n",
    "\n",
    "for i in range(1, filelimit + 1):\n",
    "    filename = \"page_\" + str(i) + \".jpg\"\n",
    "    text = str(((pytesseract.image_to_string(Image.open(filename))))) \n",
    "    text = text.replace('-\\n', '')\n",
    "    f.write(text)\n",
    "    \n",
    "f.close()"
   ]
  },
  {
   "cell_type": "markdown",
   "id": "8ca59a03",
   "metadata": {},
   "source": [
    "### 1. Counting number of paragraphs\n"
   ]
  },
  {
   "cell_type": "code",
   "execution_count": 5,
   "id": "cf74fa2d",
   "metadata": {},
   "outputs": [
    {
     "name": "stdout",
     "output_type": "stream",
     "text": [
      "Number of paragraphs in the document are: 78\n"
     ]
    }
   ],
   "source": [
    "#function for counting number of paragraphs\n",
    "def para_counter(file):\n",
    "    para = 0\n",
    "    with open(file) as f:\n",
    "        for lines in f:\n",
    "            if lines == \"\\n\":\n",
    "                para += 1\n",
    "    print(\"Number of paragraphs in the document are:\", para)\n",
    "    return \n",
    "    \n",
    "para_counter(\"converted_pdf.txt\")"
   ]
  },
  {
   "cell_type": "markdown",
   "id": "74319eeb",
   "metadata": {},
   "source": [
    "## Input Paragraph and initialising Flair NER"
   ]
  },
  {
   "cell_type": "code",
   "execution_count": 6,
   "id": "ea396498",
   "metadata": {
    "scrolled": true
   },
   "outputs": [
    {
     "name": "stdout",
     "output_type": "stream",
     "text": [
      "2022-05-15 22:40:47,047 loading file C:\\Users\\donjo\\.flair\\models\\ner-english\\4f4cdab26f24cb98b732b389e6cebc646c36f54cfd6e0b7d3b90b25656e4262f.8baa8ae8795f4df80b28e7f7b61d788ecbb057d1dc85aacb316f1bd02837a4a4\n",
      "2022-05-15 22:40:49,484 SequenceTagger predicts: Dictionary with 20 tags: <unk>, O, S-ORG, S-MISC, B-PER, E-PER, S-LOC, B-ORG, E-ORG, I-PER, S-PER, B-MISC, I-MISC, E-MISC, I-ORG, B-LOC, E-LOC, I-LOC, <START>, <STOP>\n"
     ]
    }
   ],
   "source": [
    "# input paragraph here\n",
    "paragraphInput = Sentence(\"\"\"\n",
    "The new assembly hall, Dasaratha’s latest pride, was crowded all \n",
    "day with visiting dignitaries, royal emissaries, and citizens coming in with \n",
    "representations or appeals for justice. The King was always accessible, \n",
    "and fulfilled his duties as the ruler of Kosala without grudging the hours \n",
    "spent in public service.\n",
    "On a certain afternoon, messengers at the gate came running in to \n",
    "announce, “Sage Viswamithra.” When the message was relayed to the \n",
    "King, he got up and hurried forward to receive the visitor. Viswamithra, \n",
    "once a king, a conqueror, and a dreaded name until he renounced his \n",
    "kingly role and chose to become a sage (which he accomplished through \n",
    "severe austerities), combined in himself the sage’s eminence and the \n",
    "king’s authority and was quick tempered and positive. Dasaratha led him \n",
    "to a proper seat and said, “This is a day of glory for us; your gracious \n",
    "presence is most welcome. You must have come from afar. Would you \n",
    "first rest?”\n",
    "“No need,” the sage replied simply. He had complete mastery over \n",
    "his bodily needs through inner discipline and austerities, and was above \n",
    "the effects of heat, cold, hunger, fatigue, and even decrepitude. The King \n",
    "later asked politely, “Is there anything I can do?” Viswamithra looked \n",
    "steadily at the King and answered, “Yes. I am here to ask of you a favour. \n",
    "I wish to perform, before the next full moon, a yagna at Sidhasrama. \n",
    "Doubtless you know where it is?”\n",
    "“I have passed that sacred ground beyond the Ganges many times.”\n",
    "The sage interrupted. “But there are creatures hovering about \n",
    "waiting to disturb every holy undertaking there, who must be overcome in \n",
    "the same manner as one has to conquer the fivefold evils4 within before \n",
    "one can realize holiness. Those evil creatures are endowed with \n",
    "immeasurable powers of destruction. But it is our duty to pursue our aims \n",
    "undeterred. The yagna I propose to perform will strengthen the beneficial \n",
    "forces of this world, and please the gods above.”\n",
    "“It is my duty to protect your sublime effort. Tell me when, and I will \n",
    "be there.”\n",
    "The sage said, “No need to disturb your august self. Send your son \n",
    "Rama with me, and he will help me. He can.”\n",
    "“Rama!” cried the King, surprised, “When I am here to serve you.”\n",
    "Viswamithra’s temper was already stirring. “I know your greatness,” he \n",
    "said, cutting the King short. “But I want Rama to go with me. If you are not \n",
    "willing, you may say so.”\n",
    "The air became suddenly tense. The assembly, the ministers and \n",
    "officials, watched in solemn silence. The King looked miserable. “Rama is \n",
    "still a child, still learning the art sand practising the use of arms.” His \n",
    "sentences never seemed to conclude, but trailed away as he tried to \n",
    "explain. “He is a boy, a child, he is too young and tender to contend with \n",
    "demons.”\n",
    "\"\"\")\n",
    "\n",
    "# load the NER tagger\n",
    "tagger = SequenceTagger.load('ner')\n",
    "\n",
    "# run NER over sentence\n",
    "tagger.predict(paragraphInput)"
   ]
  },
  {
   "cell_type": "markdown",
   "id": "632abb4f",
   "metadata": {},
   "source": [
    "### 2. Function to list all names mentioned in input paragraph"
   ]
  },
  {
   "cell_type": "code",
   "execution_count": 7,
   "id": "4bd83ef1",
   "metadata": {},
   "outputs": [
    {
     "name": "stdout",
     "output_type": "stream",
     "text": [
      "The following names are found in the given paragraph:\n",
      "{'Rama', 'Sage Viswamithra', 'Viswamithra', 'King', 'Dasaratha'}\n"
     ]
    }
   ],
   "source": [
    "def find_names(paragraph):\n",
    "    print('The following names are found in the given paragraph:')\n",
    "    names = []\n",
    "    # iterate over entities and print each\n",
    "    for entity in paragraph.get_spans('ner'):\n",
    "        #print(entity)\n",
    "        if entity.get_label(\"ner\").value == \"PER\":\n",
    "            names.append(entity.text)\n",
    "            #print(entity.get_label(\"ner\").value)\n",
    "    uniqueNames = set(names)\n",
    "    print(uniqueNames)\n",
    "    return\n",
    "\n",
    "find_names(paragraphInput)    "
   ]
  },
  {
   "cell_type": "markdown",
   "id": "3ffe4419",
   "metadata": {},
   "source": [
    "### 3. Function to list all location mentioned in input paragraph"
   ]
  },
  {
   "cell_type": "code",
   "execution_count": 8,
   "id": "2648c057",
   "metadata": {},
   "outputs": [
    {
     "name": "stdout",
     "output_type": "stream",
     "text": [
      "The following places are found in the given paragraph:\n",
      "{'Ganges', 'Sidhasrama', 'Kosala'}\n"
     ]
    }
   ],
   "source": [
    "\n",
    "def find_places(paragraph):\n",
    "    print('The following places are found in the given paragraph:')\n",
    "    places = []\n",
    "    # iterate over entities and print each\n",
    "    for entity in paragraph.get_spans('ner'):\n",
    "        #print(entity)\n",
    "        if entity.get_label(\"ner\").value == \"LOC\":\n",
    "            places.append(entity.text)\n",
    "            #print(entity.get_label(\"ner\").value)\n",
    "    uniquePlaces = set(places)\n",
    "    print(uniquePlaces)\n",
    "    return \n",
    "   \n",
    "find_places(paragraphInput)\n"
   ]
  },
  {
   "cell_type": "markdown",
   "id": "5966e1b3",
   "metadata": {},
   "source": [
    "### Bonus Questions"
   ]
  },
  {
   "cell_type": "code",
   "execution_count": 9,
   "id": "2329fa20",
   "metadata": {},
   "outputs": [
    {
     "name": "stdout",
     "output_type": "stream",
     "text": [
      "There are 478 words.\n",
      "Headings from the given document are:\n",
      "['RAMA’S INITIATION', 'THATAKA’S STORY', 'MAHABALI’S STORY', 'GANGA’S STORY', 'AHALYA’S STORY']\n"
     ]
    }
   ],
   "source": [
    "    \n",
    "#Counting the number of words in the paragraph\n",
    "\n",
    "def word_count(paragraph):\n",
    "    # using regex findall()\n",
    "    result = len(re.findall(r'\\w+', paragraph.text))\n",
    "\n",
    "    print(\"There are \" + str(result) + \" words.\")\n",
    "    return\n",
    "\n",
    "#finding heading from the document\n",
    "\n",
    "def headings():\n",
    "    text = open('converted_pdf.txt').read()\n",
    "    pattern = re.compile(\"(.*.[A-Z'S]+[ A-Z])+\\n\")\n",
    "    headings = []\n",
    "\n",
    "    for match in pattern.finditer(text):\n",
    "        s=match.start()\n",
    "        e = match.end()\n",
    "        headings.append(text[s:e].replace('\\n',''))  \n",
    "    print(\"Headings from the given document are:\")\n",
    "    print(headings)\n",
    "\n",
    "\n",
    "word_count(paragraphInput)\n",
    "headings()"
   ]
  }
 ],
 "metadata": {
  "kernelspec": {
   "display_name": "Python 3 (ipykernel)",
   "language": "python",
   "name": "python3"
  },
  "language_info": {
   "codemirror_mode": {
    "name": "ipython",
    "version": 3
   },
   "file_extension": ".py",
   "mimetype": "text/x-python",
   "name": "python",
   "nbconvert_exporter": "python",
   "pygments_lexer": "ipython3",
   "version": "3.9.7"
  }
 },
 "nbformat": 4,
 "nbformat_minor": 5
}
